{
  "nbformat": 4,
  "nbformat_minor": 0,
  "metadata": {
    "colab": {
      "provenance": [],
      "authorship_tag": "ABX9TyNelaDRBCtV710G5Hb/Qejz",
      "include_colab_link": true
    },
    "kernelspec": {
      "name": "python3",
      "display_name": "Python 3"
    },
    "language_info": {
      "name": "python"
    }
  },
  "cells": [
    {
      "cell_type": "markdown",
      "metadata": {
        "id": "view-in-github",
        "colab_type": "text"
      },
      "source": [
        "<a href=\"https://colab.research.google.com/github/PRIYUPATEL80/IT-1080/blob/main/IT%201080%20-%20Priyanka%20Patel%20-%20Exercise%205-2.ipynb\" target=\"_parent\"><img src=\"https://colab.research.google.com/assets/colab-badge.svg\" alt=\"Open In Colab\"/></a>"
      ]
    },
    {
      "cell_type": "markdown",
      "source": [
        "\n",
        "\n",
        "IT 1080 - Chapter 5 - Exercise - 5-2 - Priyanka Patel\n",
        "\n"
      ],
      "metadata": {
        "id": "FjLEMNenfZl1"
      }
    },
    {
      "cell_type": "code",
      "execution_count": 1,
      "metadata": {
        "id": "081FQ-nvfQYn"
      },
      "outputs": [],
      "source": [
        "import pandas as pd"
      ]
    },
    {
      "cell_type": "code",
      "source": [
        "zip_url = 'https://www.bls.gov/oes/special.requests/oesm18all.zip'"
      ],
      "metadata": {
        "id": "vljre4SygLsQ"
      },
      "execution_count": 2,
      "outputs": []
    },
    {
      "cell_type": "code",
      "source": [
        "from urllib import request\n",
        "request.urlretrieve(zip_url, filename='oesm18all.zip')"
      ],
      "metadata": {
        "colab": {
          "base_uri": "https://localhost:8080/"
        },
        "id": "22iuswGqgb98",
        "outputId": "aeaf85c6-b9b4-4db8-fc6f-ea872f6dfb13"
      },
      "execution_count": 4,
      "outputs": [
        {
          "output_type": "execute_result",
          "data": {
            "text/plain": [
              "('oesm18all.zip', <http.client.HTTPMessage at 0x7f362a1152e0>)"
            ]
          },
          "metadata": {},
          "execution_count": 4
        }
      ]
    },
    {
      "cell_type": "code",
      "source": [
        "from zipfile import ZipFile\n",
        "file_names = list() \n",
        "with ZipFile('oesm18all.zip', mode='r') as zip:\n",
        "  zip.extractall()\n",
        "  for file in zip.infolist(): \n",
        "    file_names.append(file.filename)\n",
        "    print(file.filename)"
      ],
      "metadata": {
        "colab": {
          "base_uri": "https://localhost:8080/"
        },
        "id": "4WRZZJc6hgWG",
        "outputId": "75ac5c12-034b-4819-bf4d-53114b4cdf87"
      },
      "execution_count": 6,
      "outputs": [
        {
          "output_type": "stream",
          "name": "stdout",
          "text": [
            "oesm18all/all_data_M_2018.xlsx\n"
          ]
        }
      ]
    },
    {
      "cell_type": "code",
      "source": [
        "jobs = pd.read_excel('oesm18all/all_data_M_2018.xlsx')\n",
        "jobs.head()"
      ],
      "metadata": {
        "colab": {
          "base_uri": "https://localhost:8080/",
          "height": 386
        },
        "id": "GGMlN08_jOm4",
        "outputId": "246a52bd-0e68-45f0-bea8-53957457e9d7"
      },
      "execution_count": 7,
      "outputs": [
        {
          "output_type": "execute_result",
          "data": {
            "text/plain": [
              "   area area_title  area_type   naics     naics_title         i_group  \\\n",
              "0    99       U.S.          1  000000  Cross-industry  cross-industry   \n",
              "1    99       U.S.          1  000000  Cross-industry  cross-industry   \n",
              "2    99       U.S.          1  000000  Cross-industry  cross-industry   \n",
              "3    99       U.S.          1  000000  Cross-industry  cross-industry   \n",
              "4    99       U.S.          1  000000  Cross-industry  cross-industry   \n",
              "\n",
              "   own_code occ_code               occ_title   o_group  ... h_median h_pct75  \\\n",
              "0      1235  00-0000         All Occupations     total  ...    18.58   30.06   \n",
              "1      1235  11-0000  Management Occupations     major  ...    50.11   72.93   \n",
              "2      1235  11-1000          Top Executives     minor  ...    49.73   78.81   \n",
              "3      1235  11-1010        Chief Executives     broad  ...    91.15       #   \n",
              "4      1235  11-1011        Chief Executives  detailed  ...    91.15       #   \n",
              "\n",
              "  h_pct90 a_pct10 a_pct25 a_median a_pct75 a_pct90 annual hourly  \n",
              "0   47.31   20690   25740    38640   62510   98410    NaN    NaN  \n",
              "1       #   49260   70880   104240  151700       #    NaN    NaN  \n",
              "2       #   43400   66000   103450  163930       #    NaN    NaN  \n",
              "3       #   68360  115960   189600       #       #    NaN    NaN  \n",
              "4       #   68360  115960   189600       #       #    NaN    NaN  \n",
              "\n",
              "[5 rows x 30 columns]"
            ],
            "text/html": [
              "\n",
              "  <div id=\"df-569decdd-7d92-4b6d-ab47-b5a60bd816eb\">\n",
              "    <div class=\"colab-df-container\">\n",
              "      <div>\n",
              "<style scoped>\n",
              "    .dataframe tbody tr th:only-of-type {\n",
              "        vertical-align: middle;\n",
              "    }\n",
              "\n",
              "    .dataframe tbody tr th {\n",
              "        vertical-align: top;\n",
              "    }\n",
              "\n",
              "    .dataframe thead th {\n",
              "        text-align: right;\n",
              "    }\n",
              "</style>\n",
              "<table border=\"1\" class=\"dataframe\">\n",
              "  <thead>\n",
              "    <tr style=\"text-align: right;\">\n",
              "      <th></th>\n",
              "      <th>area</th>\n",
              "      <th>area_title</th>\n",
              "      <th>area_type</th>\n",
              "      <th>naics</th>\n",
              "      <th>naics_title</th>\n",
              "      <th>i_group</th>\n",
              "      <th>own_code</th>\n",
              "      <th>occ_code</th>\n",
              "      <th>occ_title</th>\n",
              "      <th>o_group</th>\n",
              "      <th>...</th>\n",
              "      <th>h_median</th>\n",
              "      <th>h_pct75</th>\n",
              "      <th>h_pct90</th>\n",
              "      <th>a_pct10</th>\n",
              "      <th>a_pct25</th>\n",
              "      <th>a_median</th>\n",
              "      <th>a_pct75</th>\n",
              "      <th>a_pct90</th>\n",
              "      <th>annual</th>\n",
              "      <th>hourly</th>\n",
              "    </tr>\n",
              "  </thead>\n",
              "  <tbody>\n",
              "    <tr>\n",
              "      <th>0</th>\n",
              "      <td>99</td>\n",
              "      <td>U.S.</td>\n",
              "      <td>1</td>\n",
              "      <td>000000</td>\n",
              "      <td>Cross-industry</td>\n",
              "      <td>cross-industry</td>\n",
              "      <td>1235</td>\n",
              "      <td>00-0000</td>\n",
              "      <td>All Occupations</td>\n",
              "      <td>total</td>\n",
              "      <td>...</td>\n",
              "      <td>18.58</td>\n",
              "      <td>30.06</td>\n",
              "      <td>47.31</td>\n",
              "      <td>20690</td>\n",
              "      <td>25740</td>\n",
              "      <td>38640</td>\n",
              "      <td>62510</td>\n",
              "      <td>98410</td>\n",
              "      <td>NaN</td>\n",
              "      <td>NaN</td>\n",
              "    </tr>\n",
              "    <tr>\n",
              "      <th>1</th>\n",
              "      <td>99</td>\n",
              "      <td>U.S.</td>\n",
              "      <td>1</td>\n",
              "      <td>000000</td>\n",
              "      <td>Cross-industry</td>\n",
              "      <td>cross-industry</td>\n",
              "      <td>1235</td>\n",
              "      <td>11-0000</td>\n",
              "      <td>Management Occupations</td>\n",
              "      <td>major</td>\n",
              "      <td>...</td>\n",
              "      <td>50.11</td>\n",
              "      <td>72.93</td>\n",
              "      <td>#</td>\n",
              "      <td>49260</td>\n",
              "      <td>70880</td>\n",
              "      <td>104240</td>\n",
              "      <td>151700</td>\n",
              "      <td>#</td>\n",
              "      <td>NaN</td>\n",
              "      <td>NaN</td>\n",
              "    </tr>\n",
              "    <tr>\n",
              "      <th>2</th>\n",
              "      <td>99</td>\n",
              "      <td>U.S.</td>\n",
              "      <td>1</td>\n",
              "      <td>000000</td>\n",
              "      <td>Cross-industry</td>\n",
              "      <td>cross-industry</td>\n",
              "      <td>1235</td>\n",
              "      <td>11-1000</td>\n",
              "      <td>Top Executives</td>\n",
              "      <td>minor</td>\n",
              "      <td>...</td>\n",
              "      <td>49.73</td>\n",
              "      <td>78.81</td>\n",
              "      <td>#</td>\n",
              "      <td>43400</td>\n",
              "      <td>66000</td>\n",
              "      <td>103450</td>\n",
              "      <td>163930</td>\n",
              "      <td>#</td>\n",
              "      <td>NaN</td>\n",
              "      <td>NaN</td>\n",
              "    </tr>\n",
              "    <tr>\n",
              "      <th>3</th>\n",
              "      <td>99</td>\n",
              "      <td>U.S.</td>\n",
              "      <td>1</td>\n",
              "      <td>000000</td>\n",
              "      <td>Cross-industry</td>\n",
              "      <td>cross-industry</td>\n",
              "      <td>1235</td>\n",
              "      <td>11-1010</td>\n",
              "      <td>Chief Executives</td>\n",
              "      <td>broad</td>\n",
              "      <td>...</td>\n",
              "      <td>91.15</td>\n",
              "      <td>#</td>\n",
              "      <td>#</td>\n",
              "      <td>68360</td>\n",
              "      <td>115960</td>\n",
              "      <td>189600</td>\n",
              "      <td>#</td>\n",
              "      <td>#</td>\n",
              "      <td>NaN</td>\n",
              "      <td>NaN</td>\n",
              "    </tr>\n",
              "    <tr>\n",
              "      <th>4</th>\n",
              "      <td>99</td>\n",
              "      <td>U.S.</td>\n",
              "      <td>1</td>\n",
              "      <td>000000</td>\n",
              "      <td>Cross-industry</td>\n",
              "      <td>cross-industry</td>\n",
              "      <td>1235</td>\n",
              "      <td>11-1011</td>\n",
              "      <td>Chief Executives</td>\n",
              "      <td>detailed</td>\n",
              "      <td>...</td>\n",
              "      <td>91.15</td>\n",
              "      <td>#</td>\n",
              "      <td>#</td>\n",
              "      <td>68360</td>\n",
              "      <td>115960</td>\n",
              "      <td>189600</td>\n",
              "      <td>#</td>\n",
              "      <td>#</td>\n",
              "      <td>NaN</td>\n",
              "      <td>NaN</td>\n",
              "    </tr>\n",
              "  </tbody>\n",
              "</table>\n",
              "<p>5 rows × 30 columns</p>\n",
              "</div>\n",
              "      <button class=\"colab-df-convert\" onclick=\"convertToInteractive('df-569decdd-7d92-4b6d-ab47-b5a60bd816eb')\"\n",
              "              title=\"Convert this dataframe to an interactive table.\"\n",
              "              style=\"display:none;\">\n",
              "        \n",
              "  <svg xmlns=\"http://www.w3.org/2000/svg\" height=\"24px\"viewBox=\"0 0 24 24\"\n",
              "       width=\"24px\">\n",
              "    <path d=\"M0 0h24v24H0V0z\" fill=\"none\"/>\n",
              "    <path d=\"M18.56 5.44l.94 2.06.94-2.06 2.06-.94-2.06-.94-.94-2.06-.94 2.06-2.06.94zm-11 1L8.5 8.5l.94-2.06 2.06-.94-2.06-.94L8.5 2.5l-.94 2.06-2.06.94zm10 10l.94 2.06.94-2.06 2.06-.94-2.06-.94-.94-2.06-.94 2.06-2.06.94z\"/><path d=\"M17.41 7.96l-1.37-1.37c-.4-.4-.92-.59-1.43-.59-.52 0-1.04.2-1.43.59L10.3 9.45l-7.72 7.72c-.78.78-.78 2.05 0 2.83L4 21.41c.39.39.9.59 1.41.59.51 0 1.02-.2 1.41-.59l7.78-7.78 2.81-2.81c.8-.78.8-2.07 0-2.86zM5.41 20L4 18.59l7.72-7.72 1.47 1.35L5.41 20z\"/>\n",
              "  </svg>\n",
              "      </button>\n",
              "      \n",
              "  <style>\n",
              "    .colab-df-container {\n",
              "      display:flex;\n",
              "      flex-wrap:wrap;\n",
              "      gap: 12px;\n",
              "    }\n",
              "\n",
              "    .colab-df-convert {\n",
              "      background-color: #E8F0FE;\n",
              "      border: none;\n",
              "      border-radius: 50%;\n",
              "      cursor: pointer;\n",
              "      display: none;\n",
              "      fill: #1967D2;\n",
              "      height: 32px;\n",
              "      padding: 0 0 0 0;\n",
              "      width: 32px;\n",
              "    }\n",
              "\n",
              "    .colab-df-convert:hover {\n",
              "      background-color: #E2EBFA;\n",
              "      box-shadow: 0px 1px 2px rgba(60, 64, 67, 0.3), 0px 1px 3px 1px rgba(60, 64, 67, 0.15);\n",
              "      fill: #174EA6;\n",
              "    }\n",
              "\n",
              "    [theme=dark] .colab-df-convert {\n",
              "      background-color: #3B4455;\n",
              "      fill: #D2E3FC;\n",
              "    }\n",
              "\n",
              "    [theme=dark] .colab-df-convert:hover {\n",
              "      background-color: #434B5C;\n",
              "      box-shadow: 0px 1px 3px 1px rgba(0, 0, 0, 0.15);\n",
              "      filter: drop-shadow(0px 1px 2px rgba(0, 0, 0, 0.3));\n",
              "      fill: #FFFFFF;\n",
              "    }\n",
              "  </style>\n",
              "\n",
              "      <script>\n",
              "        const buttonEl =\n",
              "          document.querySelector('#df-569decdd-7d92-4b6d-ab47-b5a60bd816eb button.colab-df-convert');\n",
              "        buttonEl.style.display =\n",
              "          google.colab.kernel.accessAllowed ? 'block' : 'none';\n",
              "\n",
              "        async function convertToInteractive(key) {\n",
              "          const element = document.querySelector('#df-569decdd-7d92-4b6d-ab47-b5a60bd816eb');\n",
              "          const dataTable =\n",
              "            await google.colab.kernel.invokeFunction('convertToInteractive',\n",
              "                                                     [key], {});\n",
              "          if (!dataTable) return;\n",
              "\n",
              "          const docLinkHtml = 'Like what you see? Visit the ' +\n",
              "            '<a target=\"_blank\" href=https://colab.research.google.com/notebooks/data_table.ipynb>data table notebook</a>'\n",
              "            + ' to learn more about interactive tables.';\n",
              "          element.innerHTML = '';\n",
              "          dataTable['output_type'] = 'display_data';\n",
              "          await google.colab.output.renderOutput(dataTable, element);\n",
              "          const docLink = document.createElement('div');\n",
              "          docLink.innerHTML = docLinkHtml;\n",
              "          element.appendChild(docLink);\n",
              "        }\n",
              "      </script>\n",
              "    </div>\n",
              "  </div>\n",
              "  "
            ]
          },
          "metadata": {},
          "execution_count": 7
        }
      ]
    }
  ]
}