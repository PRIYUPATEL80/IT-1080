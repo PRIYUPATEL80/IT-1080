{
  "nbformat": 4,
  "nbformat_minor": 0,
  "metadata": {
    "colab": {
      "provenance": [],
      "authorship_tag": "ABX9TyOcPHXRLq0hKFewCpesP0Fr",
      "include_colab_link": true
    },
    "kernelspec": {
      "name": "python3",
      "display_name": "Python 3"
    },
    "language_info": {
      "name": "python"
    }
  },
  "cells": [
    {
      "cell_type": "markdown",
      "metadata": {
        "id": "view-in-github",
        "colab_type": "text"
      },
      "source": [
        "<a href=\"https://colab.research.google.com/github/PRIYUPATEL80/IT-1080/blob/main/IT1080%20-%20Assignment%207%20-%20Priyanka%20Patel.ipynb\" target=\"_parent\"><img src=\"https://colab.research.google.com/assets/colab-badge.svg\" alt=\"Open In Colab\"/></a>"
      ]
    },
    {
      "cell_type": "markdown",
      "source": [
        "IT 1080 - Assignment 7 - Priyanka Patel"
      ],
      "metadata": {
        "id": "K0pPfESMCyqH"
      }
    },
    {
      "cell_type": "code",
      "execution_count": 13,
      "metadata": {
        "id": "UtsIqhgUCt3_"
      },
      "outputs": [],
      "source": [
        "import seaborn as sns\n",
        "import pandas as pd\n",
        "from sklearn.linear_model import LinearRegression\n",
        "from sklearn.model_selection import train_test_split\n",
        "from sklearn.feature_selection import SelectKBest\n",
        "from sklearn.feature_selection import mutual_info_regression\n",
        "from sklearn.preprocessing import StandardScaler"
      ]
    },
    {
      "cell_type": "code",
      "source": [
        "carsData.info()"
      ],
      "metadata": {
        "colab": {
          "base_uri": "https://localhost:8080/",
          "height": 165
        },
        "id": "lGRDXZBVIaHV",
        "outputId": "5265dd3d-0460-4426-bdba-ee29732201cc"
      },
      "execution_count": 14,
      "outputs": [
        {
          "output_type": "error",
          "ename": "NameError",
          "evalue": "ignored",
          "traceback": [
            "\u001b[0;31m---------------------------------------------------------------------------\u001b[0m",
            "\u001b[0;31mNameError\u001b[0m                                 Traceback (most recent call last)",
            "\u001b[0;32m<ipython-input-14-bbf2cc41a37b>\u001b[0m in \u001b[0;36m<module>\u001b[0;34m\u001b[0m\n\u001b[0;32m----> 1\u001b[0;31m \u001b[0mcarsData\u001b[0m\u001b[0;34m.\u001b[0m\u001b[0minfo\u001b[0m\u001b[0;34m(\u001b[0m\u001b[0;34m)\u001b[0m\u001b[0;34m\u001b[0m\u001b[0;34m\u001b[0m\u001b[0m\n\u001b[0m",
            "\u001b[0;31mNameError\u001b[0m: name 'carsData' is not defined"
          ]
        }
      ]
    },
    {
      "cell_type": "markdown",
      "source": [
        "Data Frame"
      ],
      "metadata": {
        "id": "mdPOrh3REocr"
      }
    },
    {
      "cell_type": "code",
      "source": [
        "x_train, x_test, y_train, y_test = \\\n",
        "train_test_split(carsData[['enginesize']], carsData[['price']],\n",
        "test_size=0.20, radom_state=20)\n"
      ],
      "metadata": {
        "id": "Z0MtWK_uGxrv"
      },
      "execution_count": null,
      "outputs": []
    },
    {
      "cell_type": "code",
      "source": [
        "predicted = pd.DataFrame(y_predicted, columns=['predictedPrice'])"
      ],
      "metadata": {
        "id": "0IdzZn26GQ6G"
      },
      "execution_count": null,
      "outputs": []
    },
    {
      "cell_type": "code",
      "source": [
        "final = predicted.join([x_test.reset_index(drop=True),\n",
        "                        y_test.reset_index(drop=True)])\n",
        "final[['enginesize','price','predictedPrice']].head"
      ],
      "metadata": {
        "id": "1Cm7mu3LDDlX"
      },
      "execution_count": null,
      "outputs": []
    },
    {
      "cell_type": "code",
      "source": [
        "catColumns = ['aspiration','doornumber','carbody','drivewheel']\n",
        "dummies = pd.get_dummies(carsData[catColumns])\n",
        "dummies.info()"
      ],
      "metadata": {
        "id": "mbxpyxRhMioF"
      },
      "execution_count": null,
      "outputs": []
    },
    {
      "cell_type": "code",
      "source": [
        "carsDummies = carsData.drop(columns=catColumns)\n",
        "carsDummies = carsDummies.join(dummies)\n",
        "carsDummies.info()"
      ],
      "metadata": {
        "id": "ZJfxwa3KNJJV"
      },
      "execution_count": null,
      "outputs": []
    },
    {
      "cell_type": "markdown",
      "source": [
        "StandardScaler"
      ],
      "metadata": {
        "id": "hRrFRjIxNlw_"
      }
    },
    {
      "cell_type": "code",
      "source": [
        "scaler = StandardScaler()\n",
        "numCols = ['wheelsize','carlength,','carwidth',,'carheight','carweight',\n",
        "           'enginesize','boreratio','stroke','compressionratio',\n",
        "           'horsepower','peakrpm','citympg','highwaympg']\n",
        "carsDummies[numCols] = scaler.fit_transform(carsDummies[numCols])\n",
        "carsDummies.head()"
      ],
      "metadata": {
        "id": "n-jQMHjFNRN0"
      },
      "execution_count": null,
      "outputs": []
    },
    {
      "cell_type": "code",
      "source": [
        "carsDummies.corr()[['price']].sort_values(by='price'),ascending=False"
      ],
      "metadata": {
        "id": "pU55NXRDO9E5"
      },
      "execution_count": null,
      "outputs": []
    },
    {
      "cell_type": "markdown",
      "source": [
        "SelectKBest() method"
      ],
      "metadata": {
        "id": "uaLv8KmUKKkG"
      }
    },
    {
      "cell_type": "code",
      "source": [
        "carTrain, carTest = train_test_split(carDummies.drop(\n",
        "    columns=['CarName','fueltype','enginelocation','cylindernumber',\n",
        "    'fuelsystem','enginetype']), test_size=0.2, radom_state=20)\n"
      ],
      "metadata": {
        "id": "m5IggkElKQI2"
      },
      "execution_count": null,
      "outputs": []
    },
    {
      "cell_type": "code",
      "source": [
        "fs = SelectKBest(score_func=mutual_info_regression, k=20)\n",
        "fs.fit(carsTrain.drop(columns=['price']), carsTrain['price'])"
      ],
      "metadata": {
        "id": "CDR8pqKyP7xC"
      },
      "execution_count": null,
      "outputs": []
    },
    {
      "cell_type": "code",
      "source": [
        "x_train_fs = fs.transform(carsTrain.drop(columns=[price]))\n",
        "x_test_fs = fs.transform(carsTest.drop(columns=['price']))"
      ],
      "metadata": {
        "colab": {
          "base_uri": "https://localhost:8080/",
          "height": 183
        },
        "id": "FgKKMs6xQlZa",
        "outputId": "695739f3-1904-40c5-bdaf-11883a5c4465"
      },
      "execution_count": 15,
      "outputs": [
        {
          "output_type": "error",
          "ename": "NameError",
          "evalue": "ignored",
          "traceback": [
            "\u001b[0;31m---------------------------------------------------------------------------\u001b[0m",
            "\u001b[0;31mNameError\u001b[0m                                 Traceback (most recent call last)",
            "\u001b[0;32m<ipython-input-15-707f45a02f01>\u001b[0m in \u001b[0;36m<module>\u001b[0;34m\u001b[0m\n\u001b[0;32m----> 1\u001b[0;31m \u001b[0mx_train_fs\u001b[0m \u001b[0;34m=\u001b[0m \u001b[0mfs\u001b[0m\u001b[0;34m.\u001b[0m\u001b[0mtransform\u001b[0m\u001b[0;34m(\u001b[0m\u001b[0mcarsTrain\u001b[0m\u001b[0;34m.\u001b[0m\u001b[0mdrop\u001b[0m\u001b[0;34m(\u001b[0m\u001b[0mcolumns\u001b[0m\u001b[0;34m=\u001b[0m\u001b[0;34m[\u001b[0m\u001b[0mprice\u001b[0m\u001b[0;34m]\u001b[0m\u001b[0;34m)\u001b[0m\u001b[0;34m)\u001b[0m\u001b[0;34m\u001b[0m\u001b[0;34m\u001b[0m\u001b[0m\n\u001b[0m\u001b[1;32m      2\u001b[0m \u001b[0mx_test_fs\u001b[0m \u001b[0;34m=\u001b[0m \u001b[0mfs\u001b[0m\u001b[0;34m.\u001b[0m\u001b[0mtransform\u001b[0m\u001b[0;34m(\u001b[0m\u001b[0mcarsTest\u001b[0m\u001b[0;34m.\u001b[0m\u001b[0mdrop\u001b[0m\u001b[0;34m(\u001b[0m\u001b[0mcolumns\u001b[0m\u001b[0;34m=\u001b[0m\u001b[0;34m[\u001b[0m\u001b[0;34m'price'\u001b[0m\u001b[0;34m]\u001b[0m\u001b[0;34m)\u001b[0m\u001b[0;34m)\u001b[0m\u001b[0;34m\u001b[0m\u001b[0;34m\u001b[0m\u001b[0m\n",
            "\u001b[0;31mNameError\u001b[0m: name 'fs' is not defined"
          ]
        }
      ]
    },
    {
      "cell_type": "code",
      "source": [
        "model = LinearRegression()\n",
        "model.fit(x_train_fs, carsTrain['price'])\n",
        "model.score(x_test_fs, carsTest['price'])"
      ],
      "metadata": {
        "id": "J07zUm7kRBfO"
      },
      "execution_count": null,
      "outputs": []
    },
    {
      "cell_type": "code",
      "source": [
        "model.score(x_train_fs, carsTrain['price'])"
      ],
      "metadata": {
        "id": "H_FyTXTnRXXQ"
      },
      "execution_count": null,
      "outputs": []
    },
    {
      "cell_type": "code",
      "source": [
        "df1 = pd.DataFrame(carsTrain.drop(colums=['price']).columns, columns=['feature'])\n",
        "df2 = pd.DataFrame(fs.scores_, columns=['importance'])\n",
        "importance = df1.join(df2)\n",
        "importance.sort_values('importance',ascending=False).head()"
      ],
      "metadata": {
        "id": "JT_VD731Re_-"
      },
      "execution_count": null,
      "outputs": []
    }
  ]
}