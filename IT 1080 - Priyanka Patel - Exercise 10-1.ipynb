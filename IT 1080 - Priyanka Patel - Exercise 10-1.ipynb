{
  "nbformat": 4,
  "nbformat_minor": 0,
  "metadata": {
    "colab": {
      "provenance": [],
      "authorship_tag": "ABX9TyNKhdNxTLo/7JEpYoT2ftny",
      "include_colab_link": true
    },
    "kernelspec": {
      "name": "python3",
      "display_name": "Python 3"
    },
    "language_info": {
      "name": "python"
    }
  },
  "cells": [
    {
      "cell_type": "markdown",
      "metadata": {
        "id": "view-in-github",
        "colab_type": "text"
      },
      "source": [
        "<a href=\"https://colab.research.google.com/github/PRIYUPATEL80/IT-1080/blob/main/IT%201080%20-%20Priyanka%20Patel%20-%20Exercise%2010-1.ipynb\" target=\"_parent\"><img src=\"https://colab.research.google.com/assets/colab-badge.svg\" alt=\"Open In Colab\"/></a>"
      ]
    },
    {
      "cell_type": "markdown",
      "source": [
        "Exercise - 10-1 - Chapter 10 - Create a Linear Regression - IT 1080 - Priyanka Patel\n"
      ],
      "metadata": {
        "id": "Pk-r_LIQ1Udw"
      }
    },
    {
      "cell_type": "markdown",
      "source": [
        "Get the Data"
      ],
      "metadata": {
        "id": "z91rJ1Nj2aMM"
      }
    },
    {
      "cell_type": "code",
      "execution_count": 45,
      "metadata": {
        "colab": {
          "base_uri": "https://localhost:8080/",
          "height": 36
        },
        "id": "3G2hSgFlzrdk",
        "outputId": "bbac7275-00c3-442e-a356-6d420abc3eed"
      },
      "outputs": [
        {
          "output_type": "execute_result",
          "data": {
            "text/plain": [
              "'from sklearn.model_selection import train_test_split'"
            ],
            "application/vnd.google.colaboratory.intrinsic+json": {
              "type": "string"
            }
          },
          "metadata": {},
          "execution_count": 45
        }
      ],
      "source": [
        "\"import pandas as pd\\n\",\n",
        "\"import seaborn as sns\\n\",\n",
        "\"from sklearn.linear_model import LinearRegression\\n\",\n",
        "\"from sklearn.model_selection import train_test_split\""
      ]
    },
    {
      "cell_type": "code",
      "source": [
        "\"fish = pd.read_csv('Fish.csv')\""
      ],
      "metadata": {
        "colab": {
          "base_uri": "https://localhost:8080/",
          "height": 36
        },
        "id": "0LZUzGdK3hXu",
        "outputId": "6bada7d7-8692-4965-9b79-aa51602cb6a6"
      },
      "execution_count": 46,
      "outputs": [
        {
          "output_type": "execute_result",
          "data": {
            "text/plain": [
              "\"fish = pd.read_csv('Fish.csv')\""
            ],
            "application/vnd.google.colaboratory.intrinsic+json": {
              "type": "string"
            }
          },
          "metadata": {},
          "execution_count": 46
        }
      ]
    },
    {
      "cell_type": "code",
      "source": [
        "\"fish.head()\""
      ],
      "metadata": {
        "colab": {
          "base_uri": "https://localhost:8080/",
          "height": 36
        },
        "id": "5MG5c1Hh3zVD",
        "outputId": "cecb6c5d-08de-49ab-92fb-7cad421b576b"
      },
      "execution_count": 47,
      "outputs": [
        {
          "output_type": "execute_result",
          "data": {
            "text/plain": [
              "'fish.head()'"
            ],
            "application/vnd.google.colaboratory.intrinsic+json": {
              "type": "string"
            }
          },
          "metadata": {},
          "execution_count": 47
        }
      ]
    },
    {
      "cell_type": "markdown",
      "source": [
        "Clean The Data"
      ],
      "metadata": {
        "id": "ftKPn92H28q6"
      }
    },
    {
      "cell_type": "code",
      "source": [
        "\"fish.rename(columns={'Length1':'VerticalLength', \\n\",\n",
        "\"                     'Length2':'DiagonalLength', \\n\",\n",
        "\"                     'Length3':'CrossLength'}, inplace=True)\""
      ],
      "metadata": {
        "colab": {
          "base_uri": "https://localhost:8080/",
          "height": 36
        },
        "id": "v1pMsrme4CUZ",
        "outputId": "a9df3bcb-e294-4606-cc9a-1c0ae60405b3"
      },
      "execution_count": 48,
      "outputs": [
        {
          "output_type": "execute_result",
          "data": {
            "text/plain": [
              "\"                     'Length3':'CrossLength'}, inplace=True)\""
            ],
            "application/vnd.google.colaboratory.intrinsic+json": {
              "type": "string"
            }
          },
          "metadata": {},
          "execution_count": 48
        }
      ]
    },
    {
      "cell_type": "markdown",
      "source": [
        "Identigy a Correlation"
      ],
      "metadata": {
        "id": "SFRtU-pU2Zuz"
      }
    },
    {
      "cell_type": "code",
      "source": [
        "\"fish.corr()[['Weight']]\""
      ],
      "metadata": {
        "colab": {
          "base_uri": "https://localhost:8080/",
          "height": 36
        },
        "id": "yGI3EhnR7Yhw",
        "outputId": "b9ca64b9-194d-485d-9627-79f7a15ea73d"
      },
      "execution_count": 49,
      "outputs": [
        {
          "output_type": "execute_result",
          "data": {
            "text/plain": [
              "\"fish.corr()[['Weight']]\""
            ],
            "application/vnd.google.colaboratory.intrinsic+json": {
              "type": "string"
            }
          },
          "metadata": {},
          "execution_count": 49
        }
      ]
    },
    {
      "cell_type": "code",
      "source": [
        "\"sns.heatmap(data=fish.corr(), annot=True, cmap='Blues')\""
      ],
      "metadata": {
        "colab": {
          "base_uri": "https://localhost:8080/",
          "height": 36
        },
        "id": "f0JCDEUd8Z8A",
        "outputId": "a211d9a8-f54d-444e-e78f-d269155167ef"
      },
      "execution_count": 50,
      "outputs": [
        {
          "output_type": "execute_result",
          "data": {
            "text/plain": [
              "\"sns.heatmap(data=fish.corr(), annot=True, cmap='Blues')\""
            ],
            "application/vnd.google.colaboratory.intrinsic+json": {
              "type": "string"
            }
          },
          "metadata": {},
          "execution_count": 50
        }
      ]
    },
    {
      "cell_type": "code",
      "source": [
        "\"sns.relplot(data=fish, x='VerticalLength', y='Weight')\""
      ],
      "metadata": {
        "colab": {
          "base_uri": "https://localhost:8080/",
          "height": 36
        },
        "id": "EdlbtGjm9D3k",
        "outputId": "4a76a562-64fa-4287-d103-46d274a9434e"
      },
      "execution_count": 51,
      "outputs": [
        {
          "output_type": "execute_result",
          "data": {
            "text/plain": [
              "\"sns.relplot(data=fish, x='VerticalLength', y='Weight')\""
            ],
            "application/vnd.google.colaboratory.intrinsic+json": {
              "type": "string"
            }
          },
          "metadata": {},
          "execution_count": 51
        }
      ]
    },
    {
      "cell_type": "code",
      "source": [
        "\"sns.relplot(data=fish, x='VerticalLength', y='Weight', hue='Species')\""
      ],
      "metadata": {
        "colab": {
          "base_uri": "https://localhost:8080/",
          "height": 36
        },
        "id": "CBIIGXKfBP5e",
        "outputId": "318377d0-2d73-4c9e-a3a8-b2fbfc9322e3"
      },
      "execution_count": 52,
      "outputs": [
        {
          "output_type": "execute_result",
          "data": {
            "text/plain": [
              "\"sns.relplot(data=fish, x='VerticalLength', y='Weight', hue='Species')\""
            ],
            "application/vnd.google.colaboratory.intrinsic+json": {
              "type": "string"
            }
          },
          "metadata": {},
          "execution_count": 52
        }
      ]
    },
    {
      "cell_type": "code",
      "source": [
        "\"sns.relplot(data=fish.query('Species == \\\"Bream\\\"'), \\n\",\n",
        "\"            x='VerticalLength', y='Weight', hue='Species')\""
      ],
      "metadata": {
        "colab": {
          "base_uri": "https://localhost:8080/",
          "height": 36
        },
        "id": "x2R2ZxvwBmv5",
        "outputId": "9a4739d2-3b9f-4805-b5a3-979dd37d389f"
      },
      "execution_count": 53,
      "outputs": [
        {
          "output_type": "execute_result",
          "data": {
            "text/plain": [
              "\"            x='VerticalLength', y='Weight', hue='Species')\""
            ],
            "application/vnd.google.colaboratory.intrinsic+json": {
              "type": "string"
            }
          },
          "metadata": {},
          "execution_count": 53
        }
      ]
    },
    {
      "cell_type": "markdown",
      "source": [
        "Create a Linear Model"
      ],
      "metadata": {
        "id": "yRyWbB2LEJ7d"
      }
    },
    {
      "cell_type": "code",
      "source": [
        "\"bream = fish.query('Species == \\\"Bream\\\"')\""
      ],
      "metadata": {
        "colab": {
          "base_uri": "https://localhost:8080/",
          "height": 36
        },
        "id": "ZDUufytCB-my",
        "outputId": "fd19ac10-5c1b-429f-b4fb-81eac1c16a12"
      },
      "execution_count": 54,
      "outputs": [
        {
          "output_type": "execute_result",
          "data": {
            "text/plain": [
              "'bream = fish.query(\\'Species == \"Bream\"\\')'"
            ],
            "application/vnd.google.colaboratory.intrinsic+json": {
              "type": "string"
            }
          },
          "metadata": {},
          "execution_count": 54
        }
      ]
    },
    {
      "cell_type": "code",
      "source": [
        "\"x_train, x_test, y_train, y_test = train_test_split(\\n\",\n",
        "\"    bream[['VerticalLength']], bream[['Weight']])\""
      ],
      "metadata": {
        "colab": {
          "base_uri": "https://localhost:8080/",
          "height": 36
        },
        "id": "u7wurUVoCAc3",
        "outputId": "ed7f4d7b-e36a-428d-e826-feeed9c47b4b"
      },
      "execution_count": 55,
      "outputs": [
        {
          "output_type": "execute_result",
          "data": {
            "text/plain": [
              "\"    bream[['VerticalLength']], bream[['Weight']])\""
            ],
            "application/vnd.google.colaboratory.intrinsic+json": {
              "type": "string"
            }
          },
          "metadata": {},
          "execution_count": 55
        }
      ]
    },
    {
      "cell_type": "code",
      "source": [
        "\"model = LinearRegression()\\n\",\n",
        "\"model.fit(x_train, y_train)\""
      ],
      "metadata": {
        "colab": {
          "base_uri": "https://localhost:8080/",
          "height": 36
        },
        "id": "Uuu3gbK9CdPx",
        "outputId": "5d852341-22cd-45fe-dade-ee3f74602e08"
      },
      "execution_count": 56,
      "outputs": [
        {
          "output_type": "execute_result",
          "data": {
            "text/plain": [
              "'model.fit(x_train, y_train)'"
            ],
            "application/vnd.google.colaboratory.intrinsic+json": {
              "type": "string"
            }
          },
          "metadata": {},
          "execution_count": 56
        }
      ]
    },
    {
      "cell_type": "code",
      "source": [
        "\"model.score(x_test, y_test)\""
      ],
      "metadata": {
        "colab": {
          "base_uri": "https://localhost:8080/",
          "height": 36
        },
        "id": "JYDQ6o8RCv1t",
        "outputId": "b1060fd0-121f-4817-d51d-270a5aebedee"
      },
      "execution_count": 57,
      "outputs": [
        {
          "output_type": "execute_result",
          "data": {
            "text/plain": [
              "'model.score(x_test, y_test)'"
            ],
            "application/vnd.google.colaboratory.intrinsic+json": {
              "type": "string"
            }
          },
          "metadata": {},
          "execution_count": 57
        }
      ]
    },
    {
      "cell_type": "code",
      "source": [
        "\"y_predicted = model.predict(x_test)\\n\",\n",
        "\"predicted = pd.DataFrame(y_predicted, columns = ['PredictedWeight'])\""
      ],
      "metadata": {
        "colab": {
          "base_uri": "https://localhost:8080/",
          "height": 36
        },
        "id": "KFQGnznWC-fK",
        "outputId": "9d720bc5-2e80-457e-c6f1-3f4a5bd5ad55"
      },
      "execution_count": 58,
      "outputs": [
        {
          "output_type": "execute_result",
          "data": {
            "text/plain": [
              "\"predicted = pd.DataFrame(y_predicted, columns = ['PredictedWeight'])\""
            ],
            "application/vnd.google.colaboratory.intrinsic+json": {
              "type": "string"
            }
          },
          "metadata": {},
          "execution_count": 58
        }
      ]
    },
    {
      "cell_type": "markdown",
      "source": [
        "Plot THe Regression Line"
      ],
      "metadata": {
        "id": "XVAu9HSUERGW"
      }
    },
    {
      "cell_type": "code",
      "source": [
        "\"## Plot the regression line\""
      ],
      "metadata": {
        "colab": {
          "base_uri": "https://localhost:8080/",
          "height": 36
        },
        "id": "845nVsOjDHA3",
        "outputId": "cd4f72b0-a50e-4e6e-e895-97716e0864d5"
      },
      "execution_count": 59,
      "outputs": [
        {
          "output_type": "execute_result",
          "data": {
            "text/plain": [
              "'## Plot the regression line'"
            ],
            "application/vnd.google.colaboratory.intrinsic+json": {
              "type": "string"
            }
          },
          "metadata": {},
          "execution_count": 59
        }
      ]
    },
    {
      "cell_type": "code",
      "source": [
        "\"final = predicted.join([x_test.reset_index(drop=True),\\n\",\n",
        "\"                        y_test.reset_index(drop=True)])\\n\",\n",
        "\"final.head()\""
      ],
      "metadata": {
        "colab": {
          "base_uri": "https://localhost:8080/",
          "height": 36
        },
        "id": "1kxzf1LdDURT",
        "outputId": "cb3247b4-75ce-4c0d-e150-44315a74b4c8"
      },
      "execution_count": 60,
      "outputs": [
        {
          "output_type": "execute_result",
          "data": {
            "text/plain": [
              "'final.head()'"
            ],
            "application/vnd.google.colaboratory.intrinsic+json": {
              "type": "string"
            }
          },
          "metadata": {},
          "execution_count": 60
        }
      ]
    },
    {
      "cell_type": "code",
      "source": [
        "\"# rename the Weight column to indicate that it stores actual values, not predicted values\\n\",\n",
        "\"final.rename(columns={'Weight':'ActualWeight'}, inplace=True)\\n\",\n",
        "\"final.head()\""
      ],
      "metadata": {
        "colab": {
          "base_uri": "https://localhost:8080/",
          "height": 36
        },
        "id": "Ue7L0SfPEqtu",
        "outputId": "f82d9513-a9be-49f8-9ac7-c06aa2cc46ad"
      },
      "execution_count": 61,
      "outputs": [
        {
          "output_type": "execute_result",
          "data": {
            "text/plain": [
              "'final.head()'"
            ],
            "application/vnd.google.colaboratory.intrinsic+json": {
              "type": "string"
            }
          },
          "metadata": {},
          "execution_count": 61
        }
      ]
    },
    {
      "cell_type": "code",
      "source": [
        "\"finalMelt = pd.melt(final, id_vars=['VerticalLength'], \\n\",\n",
        "\"                    value_vars=['ActualWeight','PredictedWeight'], \\n\",\n",
        "\"                    var_name='Variable', value_name='Value')\\n\",\n",
        "\"finalMelt.head()\""
      ],
      "metadata": {
        "colab": {
          "base_uri": "https://localhost:8080/",
          "height": 36
        },
        "id": "EeU86jThEpuU",
        "outputId": "450ccb9c-f708-4e9a-e073-a64d4c8a6b44"
      },
      "execution_count": 62,
      "outputs": [
        {
          "output_type": "execute_result",
          "data": {
            "text/plain": [
              "'finalMelt.head()'"
            ],
            "application/vnd.google.colaboratory.intrinsic+json": {
              "type": "string"
            }
          },
          "metadata": {},
          "execution_count": 62
        }
      ]
    },
    {
      "cell_type": "code",
      "source": [
        "\"sns.relplot(data=finalMelt, x='VerticalLength', y='Value', hue='Variable')\"\n"
      ],
      "metadata": {
        "colab": {
          "base_uri": "https://localhost:8080/",
          "height": 36
        },
        "id": "3iZ3fCsoGRI8",
        "outputId": "60035a02-7497-4c6c-f455-45de9b228831"
      },
      "execution_count": 63,
      "outputs": [
        {
          "output_type": "execute_result",
          "data": {
            "text/plain": [
              "\"sns.relplot(data=finalMelt, x='VerticalLength', y='Value', hue='Variable')\""
            ],
            "application/vnd.google.colaboratory.intrinsic+json": {
              "type": "string"
            }
          },
          "metadata": {},
          "execution_count": 63
        }
      ]
    },
    {
      "cell_type": "code",
      "source": [
        "\"sns.lmplot(data=bream, x='VerticalLength', y='Weight')\""
      ],
      "metadata": {
        "colab": {
          "base_uri": "https://localhost:8080/",
          "height": 36
        },
        "id": "S6n1sLROGb9G",
        "outputId": "e904c66d-83c5-41ff-ad2f-04f828013af1"
      },
      "execution_count": 64,
      "outputs": [
        {
          "output_type": "execute_result",
          "data": {
            "text/plain": [
              "\"sns.lmplot(data=bream, x='VerticalLength', y='Weight')\""
            ],
            "application/vnd.google.colaboratory.intrinsic+json": {
              "type": "string"
            }
          },
          "metadata": {},
          "execution_count": 64
        }
      ]
    },
    {
      "cell_type": "markdown",
      "source": [
        "Plot The Residuals"
      ],
      "metadata": {
        "id": "yjWddqXkET-g"
      }
    },
    {
      "cell_type": "code",
      "source": [
        "\"final['Residuals'] = final.ActualWeight - final.PredictedWeight\""
      ],
      "metadata": {
        "colab": {
          "base_uri": "https://localhost:8080/",
          "height": 36
        },
        "id": "74HR3MUCG5zU",
        "outputId": "b0d6767c-c9f8-4015-ddb5-680f7e73515a"
      },
      "execution_count": 65,
      "outputs": [
        {
          "output_type": "execute_result",
          "data": {
            "text/plain": [
              "\"final['Residuals'] = final.ActualWeight - final.PredictedWeight\""
            ],
            "application/vnd.google.colaboratory.intrinsic+json": {
              "type": "string"
            }
          },
          "metadata": {},
          "execution_count": 65
        }
      ]
    },
    {
      "cell_type": "code",
      "source": [
        "\"g = sns.relplot(data=final, x='VerticalLength', y='Residuals')\\n\",\n",
        "\"for ax in g.axes.flat:\\n\",\n",
        "\"    ax.axhline(0, ls='--', color='red')\""
      ],
      "metadata": {
        "colab": {
          "base_uri": "https://localhost:8080/",
          "height": 36
        },
        "id": "Oh7sR9gdHgx2",
        "outputId": "5978c2bd-502f-4276-e9df-e42c79b6aa6d"
      },
      "execution_count": 66,
      "outputs": [
        {
          "output_type": "execute_result",
          "data": {
            "text/plain": [
              "\"    ax.axhline(0, ls='--', color='red')\""
            ],
            "application/vnd.google.colaboratory.intrinsic+json": {
              "type": "string"
            }
          },
          "metadata": {},
          "execution_count": 66
        }
      ]
    },
    {
      "cell_type": "code",
      "source": [
        "\"sns.residplot(data=bream, x='VerticalLength', y='Weight')\""
      ],
      "metadata": {
        "colab": {
          "base_uri": "https://localhost:8080/",
          "height": 36
        },
        "id": "Pl3445qHJWNl",
        "outputId": "6edae799-24b9-4a70-e8c8-01558d5e219e"
      },
      "execution_count": 67,
      "outputs": [
        {
          "output_type": "execute_result",
          "data": {
            "text/plain": [
              "\"sns.residplot(data=bream, x='VerticalLength', y='Weight')\""
            ],
            "application/vnd.google.colaboratory.intrinsic+json": {
              "type": "string"
            }
          },
          "metadata": {},
          "execution_count": 67
        }
      ]
    }
  ]
}