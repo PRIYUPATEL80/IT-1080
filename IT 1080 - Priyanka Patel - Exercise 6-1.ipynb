{
  "nbformat": 4,
  "nbformat_minor": 0,
  "metadata": {
    "colab": {
      "provenance": [],
      "authorship_tag": "ABX9TyPUqeHySrZxxmYf6JNcRKHc",
      "include_colab_link": true
    },
    "kernelspec": {
      "name": "python3",
      "display_name": "Python 3"
    },
    "language_info": {
      "name": "python"
    }
  },
  "cells": [
    {
      "cell_type": "markdown",
      "metadata": {
        "id": "view-in-github",
        "colab_type": "text"
      },
      "source": [
        "<a href=\"https://colab.research.google.com/github/PRIYUPATEL80/IT-1080/blob/main/IT%201080%20-%20Priyanka%20Patel%20-%20Exercise%206-1.ipynb\" target=\"_parent\"><img src=\"https://colab.research.google.com/assets/colab-badge.svg\" alt=\"Open In Colab\"/></a>"
      ]
    },
    {
      "cell_type": "markdown",
      "source": [
        "IT 1080 - Chapter 6 - Exercise 6-1 - Priyanka Patel - Clean the Poolling Data"
      ],
      "metadata": {
        "id": "5tF8kasTmjuZ"
      }
    },
    {
      "cell_type": "markdown",
      "source": [
        "Read the Data"
      ],
      "metadata": {
        "id": "h_tZZy6rm1Ed"
      }
    },
    {
      "cell_type": "code",
      "execution_count": 12,
      "metadata": {
        "id": "-pPM05XbmXyh"
      },
      "outputs": [],
      "source": [
        "import pandas as pd"
      ]
    },
    {
      "cell_type": "code",
      "source": [
        "polls_url = (\\\n",
        "'http://projects.fivethirtyeight.com/general-model/president_general_polls_2016.csv')\n",
        "     "
      ],
      "metadata": {
        "id": "8HDwauoonDnM"
      },
      "execution_count": 13,
      "outputs": []
    },
    {
      "cell_type": "code",
      "source": [
        "from urllib import request\n",
        "request.urlretrieve(polls_url, filename='president_polls_2016.csv')"
      ],
      "metadata": {
        "colab": {
          "base_uri": "https://localhost:8080/"
        },
        "id": "NIZRFpP8oPhV",
        "outputId": "90edc765-6838-4369-b143-e33591622c56"
      },
      "execution_count": 14,
      "outputs": [
        {
          "output_type": "execute_result",
          "data": {
            "text/plain": [
              "('president_polls_2016.csv', <http.client.HTTPMessage at 0x7efea92c9820>)"
            ]
          },
          "metadata": {},
          "execution_count": 14
        }
      ]
    },
    {
      "cell_type": "code",
      "source": [
        "polls = pd.read_csv('president_polls_2016.csv')\n"
      ],
      "metadata": {
        "id": "Hh0JmwWloWL5"
      },
      "execution_count": 15,
      "outputs": []
    },
    {
      "cell_type": "markdown",
      "source": [
        "Examine the Data"
      ],
      "metadata": {
        "id": "SvNKp-uPqv_9"
      }
    },
    {
      "cell_type": "code",
      "source": [
        "polls.info()"
      ],
      "metadata": {
        "colab": {
          "base_uri": "https://localhost:8080/"
        },
        "id": "LJWN8FE0o99F",
        "outputId": "322d2fd3-78a9-46c2-d77c-55d047dfa24f"
      },
      "execution_count": 16,
      "outputs": [
        {
          "output_type": "stream",
          "name": "stdout",
          "text": [
            "<class 'pandas.core.frame.DataFrame'>\n",
            "RangeIndex: 12624 entries, 0 to 12623\n",
            "Data columns (total 27 columns):\n",
            " #   Column            Non-Null Count  Dtype  \n",
            "---  ------            --------------  -----  \n",
            " 0   cycle             12624 non-null  int64  \n",
            " 1   branch            12624 non-null  object \n",
            " 2   type              12624 non-null  object \n",
            " 3   matchup           12624 non-null  object \n",
            " 4   forecastdate      12624 non-null  object \n",
            " 5   state             12624 non-null  object \n",
            " 6   startdate         12624 non-null  object \n",
            " 7   enddate           12624 non-null  object \n",
            " 8   pollster          12624 non-null  object \n",
            " 9   grade             11337 non-null  object \n",
            " 10  samplesize        12621 non-null  float64\n",
            " 11  population        12624 non-null  object \n",
            " 12  poll_wt           12624 non-null  float64\n",
            " 13  rawpoll_clinton   12624 non-null  float64\n",
            " 14  rawpoll_trump     12624 non-null  float64\n",
            " 15  rawpoll_johnson   8397 non-null   float64\n",
            " 16  rawpoll_mcmullin  90 non-null     float64\n",
            " 17  adjpoll_clinton   12624 non-null  float64\n",
            " 18  adjpoll_trump     12624 non-null  float64\n",
            " 19  adjpoll_johnson   8397 non-null   float64\n",
            " 20  adjpoll_mcmullin  90 non-null     float64\n",
            " 21  multiversions     36 non-null     object \n",
            " 22  url               12621 non-null  object \n",
            " 23  poll_id           12624 non-null  int64  \n",
            " 24  question_id       12624 non-null  int64  \n",
            " 25  createddate       12624 non-null  object \n",
            " 26  timestamp         12624 non-null  object \n",
            "dtypes: float64(10), int64(3), object(14)\n",
            "memory usage: 2.6+ MB\n"
          ]
        }
      ]
    },
    {
      "cell_type": "code",
      "source": [
        "polls.nunique()"
      ],
      "metadata": {
        "colab": {
          "base_uri": "https://localhost:8080/"
        },
        "id": "YcfCqIUZpq_C",
        "outputId": "08d30ad9-4056-4239-88f7-ff8877a9e110"
      },
      "execution_count": 17,
      "outputs": [
        {
          "output_type": "execute_result",
          "data": {
            "text/plain": [
              "cycle                   1\n",
              "branch                  1\n",
              "type                    3\n",
              "matchup                 1\n",
              "forecastdate            1\n",
              "state                  57\n",
              "startdate             352\n",
              "enddate               345\n",
              "pollster              196\n",
              "grade                  10\n",
              "samplesize           1766\n",
              "population              4\n",
              "poll_wt              4399\n",
              "rawpoll_clinton      1312\n",
              "rawpoll_trump        1385\n",
              "rawpoll_johnson       584\n",
              "rawpoll_mcmullin       16\n",
              "adjpoll_clinton     12569\n",
              "adjpoll_trump       12582\n",
              "adjpoll_johnson      6629\n",
              "adjpoll_mcmullin       57\n",
              "multiversions           1\n",
              "url                  1304\n",
              "poll_id              4208\n",
              "question_id          4208\n",
              "createddate           222\n",
              "timestamp               3\n",
              "dtype: int64"
            ]
          },
          "metadata": {},
          "execution_count": 17
        }
      ]
    },
    {
      "cell_type": "markdown",
      "source": [
        "Drop Columns and rows"
      ],
      "metadata": {
        "id": "U34XXOoBrJuL"
      }
    },
    {
      "cell_type": "code",
      "source": [
        "polls = polls.query('type == \\\"now-cast\\\"')"
      ],
      "metadata": {
        "id": "1nvNKpqmqKNc"
      },
      "execution_count": 18,
      "outputs": []
    },
    {
      "cell_type": "code",
      "source": [
        "polls.nunique()"
      ],
      "metadata": {
        "colab": {
          "base_uri": "https://localhost:8080/"
        },
        "id": "ucnXpOgFrcUg",
        "outputId": "73f6a150-dbc3-4d7f-d927-39c036bc754f"
      },
      "execution_count": 19,
      "outputs": [
        {
          "output_type": "execute_result",
          "data": {
            "text/plain": [
              "cycle                  1\n",
              "branch                 1\n",
              "type                   1\n",
              "matchup                1\n",
              "forecastdate           1\n",
              "state                 57\n",
              "startdate            352\n",
              "enddate              345\n",
              "pollster             196\n",
              "grade                 10\n",
              "samplesize          1766\n",
              "population             4\n",
              "poll_wt             3894\n",
              "rawpoll_clinton     1312\n",
              "rawpoll_trump       1385\n",
              "rawpoll_johnson      584\n",
              "rawpoll_mcmullin      16\n",
              "adjpoll_clinton     4202\n",
              "adjpoll_trump       4199\n",
              "adjpoll_johnson     2210\n",
              "adjpoll_mcmullin      30\n",
              "multiversions          1\n",
              "url                 1304\n",
              "poll_id             4208\n",
              "question_id         4208\n",
              "createddate          222\n",
              "timestamp              1\n",
              "dtype: int64"
            ]
          },
          "metadata": {},
          "execution_count": 19
        }
      ]
    },
    {
      "cell_type": "code",
      "source": [
        "polls.drop(columns=['cycle','branch','type','matchup',\\\n",
        "                       'forecastdate','multiversions','timestamp'], inplace=True)"
      ],
      "metadata": {
        "id": "cSXZ785QrwQX"
      },
      "execution_count": 20,
      "outputs": []
    },
    {
      "cell_type": "code",
      "source": [
        "polls = polls.query('state != \\\"U.S.\\\"')"
      ],
      "metadata": {
        "id": "2UrwelJmsJoc"
      },
      "execution_count": 21,
      "outputs": []
    },
    {
      "cell_type": "code",
      "source": [
        "polls.nunique()"
      ],
      "metadata": {
        "colab": {
          "base_uri": "https://localhost:8080/"
        },
        "id": "7AQWyMWIsZC4",
        "outputId": "e5db2bfa-010f-4984-b650-5a195fd8a4e6"
      },
      "execution_count": 22,
      "outputs": [
        {
          "output_type": "execute_result",
          "data": {
            "text/plain": [
              "state                 56\n",
              "startdate            245\n",
              "enddate              241\n",
              "pollster             176\n",
              "grade                 10\n",
              "samplesize          1308\n",
              "population             4\n",
              "poll_wt             2874\n",
              "rawpoll_clinton     1162\n",
              "rawpoll_trump       1217\n",
              "rawpoll_johnson      578\n",
              "rawpoll_mcmullin      16\n",
              "adjpoll_clinton     3100\n",
              "adjpoll_trump       3097\n",
              "adjpoll_johnson     1672\n",
              "adjpoll_mcmullin      30\n",
              "url                  847\n",
              "poll_id             3102\n",
              "question_id         3102\n",
              "createddate          185\n",
              "dtype: int64"
            ]
          },
          "metadata": {},
          "execution_count": 22
        }
      ]
    },
    {
      "cell_type": "markdown",
      "source": [
        "Rename Columns"
      ],
      "metadata": {
        "id": "UBVRwGK1ssLQ"
      }
    },
    {
      "cell_type": "code",
      "source": [
        "# rename all the rawpoll_* columns\\n\",\n",
        "polls_names_dict = {'rawpoll_clinton':'clinton_pct',\n",
        "                    'rawpoll_trump':'trump_pct',\n",
        "                    'rawpoll_johnson':'johnson_pct',\n",
        "                    'rawpoll_mcmullin':'mcmullin_pct'}\n",
        "polls.rename(columns=polls_names_dict, inplace=True)"
      ],
      "metadata": {
        "id": "rtrWMsSSsq9x"
      },
      "execution_count": 23,
      "outputs": []
    },
    {
      "cell_type": "markdown",
      "source": [
        "Fix Data Types"
      ],
      "metadata": {
        "id": "QPTzMnFRtPV_"
      }
    },
    {
      "cell_type": "code",
      "source": [
        "polls.info()"
      ],
      "metadata": {
        "colab": {
          "base_uri": "https://localhost:8080/"
        },
        "id": "3NicVMwItOfM",
        "outputId": "312bc5d9-875b-491b-f9b1-34aec534100a"
      },
      "execution_count": 24,
      "outputs": [
        {
          "output_type": "stream",
          "name": "stdout",
          "text": [
            "<class 'pandas.core.frame.DataFrame'>\n",
            "Int64Index: 3102 entries, 4216 to 8415\n",
            "Data columns (total 20 columns):\n",
            " #   Column            Non-Null Count  Dtype  \n",
            "---  ------            --------------  -----  \n",
            " 0   state             3102 non-null   object \n",
            " 1   startdate         3102 non-null   object \n",
            " 2   enddate           3102 non-null   object \n",
            " 3   pollster          3102 non-null   object \n",
            " 4   grade             2961 non-null   object \n",
            " 5   samplesize        3101 non-null   float64\n",
            " 6   population        3102 non-null   object \n",
            " 7   poll_wt           3102 non-null   float64\n",
            " 8   clinton_pct       3102 non-null   float64\n",
            " 9   trump_pct         3102 non-null   float64\n",
            " 10  johnson_pct       2246 non-null   float64\n",
            " 11  mcmullin_pct      30 non-null     float64\n",
            " 12  adjpoll_clinton   3102 non-null   float64\n",
            " 13  adjpoll_trump     3102 non-null   float64\n",
            " 14  adjpoll_johnson   2246 non-null   float64\n",
            " 15  adjpoll_mcmullin  30 non-null     float64\n",
            " 16  url               3102 non-null   object \n",
            " 17  poll_id           3102 non-null   int64  \n",
            " 18  question_id       3102 non-null   int64  \n",
            " 19  createddate       3102 non-null   object \n",
            "dtypes: float64(10), int64(2), object(8)\n",
            "memory usage: 508.9+ KB\n"
          ]
        }
      ]
    },
    {
      "cell_type": "code",
      "source": [
        "# create a list of columns that should be datetimes\n",
        "date_cols = ['startdate','enddate','createddate']"
      ],
      "metadata": {
        "id": "seOu3TKftamh"
      },
      "execution_count": 25,
      "outputs": []
    },
    {
      "cell_type": "code",
      "source": [
        "polls[date_cols] = polls[date_cols].apply(pd.to_datetime)"
      ],
      "metadata": {
        "id": "60ZByC8LtoFd"
      },
      "execution_count": 26,
      "outputs": []
    },
    {
      "cell_type": "code",
      "source": [
        "polls.state = polls.state.astype('category')\n",
        "polls.population = polls.population.astype('category')"
      ],
      "metadata": {
        "id": "prmg5UtstuHE"
      },
      "execution_count": 27,
      "outputs": []
    },
    {
      "cell_type": "code",
      "source": [
        "polls.info()"
      ],
      "metadata": {
        "colab": {
          "base_uri": "https://localhost:8080/"
        },
        "id": "4_HcwoOkt5kX",
        "outputId": "20a7a4b2-51e8-4e0b-977c-8042c11863fe"
      },
      "execution_count": 28,
      "outputs": [
        {
          "output_type": "stream",
          "name": "stdout",
          "text": [
            "<class 'pandas.core.frame.DataFrame'>\n",
            "Int64Index: 3102 entries, 4216 to 8415\n",
            "Data columns (total 20 columns):\n",
            " #   Column            Non-Null Count  Dtype         \n",
            "---  ------            --------------  -----         \n",
            " 0   state             3102 non-null   category      \n",
            " 1   startdate         3102 non-null   datetime64[ns]\n",
            " 2   enddate           3102 non-null   datetime64[ns]\n",
            " 3   pollster          3102 non-null   object        \n",
            " 4   grade             2961 non-null   object        \n",
            " 5   samplesize        3101 non-null   float64       \n",
            " 6   population        3102 non-null   category      \n",
            " 7   poll_wt           3102 non-null   float64       \n",
            " 8   clinton_pct       3102 non-null   float64       \n",
            " 9   trump_pct         3102 non-null   float64       \n",
            " 10  johnson_pct       2246 non-null   float64       \n",
            " 11  mcmullin_pct      30 non-null     float64       \n",
            " 12  adjpoll_clinton   3102 non-null   float64       \n",
            " 13  adjpoll_trump     3102 non-null   float64       \n",
            " 14  adjpoll_johnson   2246 non-null   float64       \n",
            " 15  adjpoll_mcmullin  30 non-null     float64       \n",
            " 16  url               3102 non-null   object        \n",
            " 17  poll_id           3102 non-null   int64         \n",
            " 18  question_id       3102 non-null   int64         \n",
            " 19  createddate       3102 non-null   datetime64[ns]\n",
            "dtypes: category(2), datetime64[ns](3), float64(10), int64(2), object(3)\n",
            "memory usage: 469.2+ KB\n"
          ]
        }
      ]
    },
    {
      "cell_type": "code",
      "source": [
        "polls"
      ],
      "metadata": {
        "colab": {
          "base_uri": "https://localhost:8080/",
          "height": 696
        },
        "id": "NtDvGpQsuOwv",
        "outputId": "92c2c3cf-70b4-48ef-8433-d380a602415a"
      },
      "execution_count": 29,
      "outputs": [
        {
          "output_type": "execute_result",
          "data": {
            "text/plain": [
              "               state  startdate    enddate               pollster grade  \\\n",
              "4216      New Mexico 2016-11-06 2016-11-06               Zia Poll   NaN   \n",
              "4221        Virginia 2016-11-03 2016-11-04  Public Policy Polling    B+   \n",
              "4223            Iowa 2016-11-01 2016-11-04       Selzer & Company    A+   \n",
              "4225       Wisconsin 2016-10-26 2016-10-31   Marquette University     A   \n",
              "4226  North Carolina 2016-11-04 2016-11-06          Siena College     A   \n",
              "...              ...        ...        ...                    ...   ...   \n",
              "8411  North Carolina 2016-08-26 2016-08-27  Public Policy Polling    B+   \n",
              "8412  North Carolina 2016-03-09 2016-03-10              SurveyUSA     A   \n",
              "8413  North Carolina 2016-07-31 2016-08-02              SurveyUSA     A   \n",
              "8414            Utah 2016-08-05 2016-08-25                  Ipsos    A-   \n",
              "8415        Missouri 2016-10-21 2016-11-02                  Ipsos    A-   \n",
              "\n",
              "      samplesize population   poll_wt  clinton_pct  trump_pct  johnson_pct  \\\n",
              "4216      8439.0         lv  4.609492        46.00      44.00          6.0   \n",
              "4221      1238.0         lv  3.923524        48.00      43.00          1.0   \n",
              "4223       800.0         lv  3.842234        39.00      46.00          6.0   \n",
              "4225      1255.0         lv  3.789957        46.00      40.00          4.0   \n",
              "4226       800.0         lv  3.774139        44.00      44.00          3.0   \n",
              "...          ...        ...       ...          ...        ...          ...   \n",
              "8411      1177.0         lv  0.000000        45.00      44.00          NaN   \n",
              "8412      1576.0         lv  0.000000        42.00      49.00          NaN   \n",
              "8413       400.0         lv  0.000000        42.00      46.00          6.0   \n",
              "8414       177.0         lv  0.000000        33.67      38.53          NaN   \n",
              "8415       405.0         lv  0.000000        41.09      47.19          NaN   \n",
              "\n",
              "      mcmullin_pct  adjpoll_clinton  adjpoll_trump  adjpoll_johnson  \\\n",
              "4216           NaN         45.04927       41.92541         7.657972   \n",
              "4221           NaN         47.45700       42.35281         2.199139   \n",
              "4223           NaN         39.36898       45.67372         5.995712   \n",
              "4225           NaN         46.10277       41.02478         2.856997   \n",
              "4226           NaN         44.26048       44.98719         2.236248   \n",
              "...            ...              ...            ...              ...   \n",
              "8411           NaN         44.40263       44.69241              NaN   \n",
              "8412           NaN         38.91546       48.83620              NaN   \n",
              "8413           NaN         42.90049       48.56213         3.223028   \n",
              "8414           NaN         33.17161       40.04859              NaN   \n",
              "8415           NaN         39.82209       46.82893              NaN   \n",
              "\n",
              "      adjpoll_mcmullin                                                url  \\\n",
              "4216               NaN  http://projects.fivethirtyeight.com.s3.amazona...   \n",
              "4221               NaN  http://www.publicpolicypolling.com/pdf/2015/PP...   \n",
              "4223               NaN  http://www.desmoinesregister.com/story/news/po...   \n",
              "4225               NaN                      https://twitter.com/MULawPoll   \n",
              "4226               NaN  http://www.nytimes.com/2016/11/08/upshot/trump...   \n",
              "...                ...                                                ...   \n",
              "8411               NaN  http://nelpaction.org/wp-content/uploads/2016/...   \n",
              "8412               NaN  http://www.highpoint.edu/blog/2016/03/hpu-poll...   \n",
              "8413               NaN  https://www.nccivitas.org/2016/civitas-release...   \n",
              "8414               NaN           http://www.reuters.com/statesofthenation   \n",
              "8415               NaN          http://www.reuters.com/statesofthenation/   \n",
              "\n",
              "      poll_id  question_id createddate  \n",
              "4216    48614        76158  2016-11-07  \n",
              "4221    48349        75743  2016-11-04  \n",
              "4223    48470        75957  2016-11-05  \n",
              "4225    48095        75264  2016-11-02  \n",
              "4226    48524        76066  2016-11-07  \n",
              "...       ...          ...         ...  \n",
              "8411    45261        69614  2016-09-01  \n",
              "8412    36589        65523  2016-05-05  \n",
              "8413    44759        68485  2016-08-03  \n",
              "8414    45033        69086  2016-08-26  \n",
              "8415    48236        75537  2016-11-03  \n",
              "\n",
              "[3102 rows x 20 columns]"
            ],
            "text/html": [
              "\n",
              "  <div id=\"df-0eedc6d2-a596-4fcf-8382-7cc034ac6245\">\n",
              "    <div class=\"colab-df-container\">\n",
              "      <div>\n",
              "<style scoped>\n",
              "    .dataframe tbody tr th:only-of-type {\n",
              "        vertical-align: middle;\n",
              "    }\n",
              "\n",
              "    .dataframe tbody tr th {\n",
              "        vertical-align: top;\n",
              "    }\n",
              "\n",
              "    .dataframe thead th {\n",
              "        text-align: right;\n",
              "    }\n",
              "</style>\n",
              "<table border=\"1\" class=\"dataframe\">\n",
              "  <thead>\n",
              "    <tr style=\"text-align: right;\">\n",
              "      <th></th>\n",
              "      <th>state</th>\n",
              "      <th>startdate</th>\n",
              "      <th>enddate</th>\n",
              "      <th>pollster</th>\n",
              "      <th>grade</th>\n",
              "      <th>samplesize</th>\n",
              "      <th>population</th>\n",
              "      <th>poll_wt</th>\n",
              "      <th>clinton_pct</th>\n",
              "      <th>trump_pct</th>\n",
              "      <th>johnson_pct</th>\n",
              "      <th>mcmullin_pct</th>\n",
              "      <th>adjpoll_clinton</th>\n",
              "      <th>adjpoll_trump</th>\n",
              "      <th>adjpoll_johnson</th>\n",
              "      <th>adjpoll_mcmullin</th>\n",
              "      <th>url</th>\n",
              "      <th>poll_id</th>\n",
              "      <th>question_id</th>\n",
              "      <th>createddate</th>\n",
              "    </tr>\n",
              "  </thead>\n",
              "  <tbody>\n",
              "    <tr>\n",
              "      <th>4216</th>\n",
              "      <td>New Mexico</td>\n",
              "      <td>2016-11-06</td>\n",
              "      <td>2016-11-06</td>\n",
              "      <td>Zia Poll</td>\n",
              "      <td>NaN</td>\n",
              "      <td>8439.0</td>\n",
              "      <td>lv</td>\n",
              "      <td>4.609492</td>\n",
              "      <td>46.00</td>\n",
              "      <td>44.00</td>\n",
              "      <td>6.0</td>\n",
              "      <td>NaN</td>\n",
              "      <td>45.04927</td>\n",
              "      <td>41.92541</td>\n",
              "      <td>7.657972</td>\n",
              "      <td>NaN</td>\n",
              "      <td>http://projects.fivethirtyeight.com.s3.amazona...</td>\n",
              "      <td>48614</td>\n",
              "      <td>76158</td>\n",
              "      <td>2016-11-07</td>\n",
              "    </tr>\n",
              "    <tr>\n",
              "      <th>4221</th>\n",
              "      <td>Virginia</td>\n",
              "      <td>2016-11-03</td>\n",
              "      <td>2016-11-04</td>\n",
              "      <td>Public Policy Polling</td>\n",
              "      <td>B+</td>\n",
              "      <td>1238.0</td>\n",
              "      <td>lv</td>\n",
              "      <td>3.923524</td>\n",
              "      <td>48.00</td>\n",
              "      <td>43.00</td>\n",
              "      <td>1.0</td>\n",
              "      <td>NaN</td>\n",
              "      <td>47.45700</td>\n",
              "      <td>42.35281</td>\n",
              "      <td>2.199139</td>\n",
              "      <td>NaN</td>\n",
              "      <td>http://www.publicpolicypolling.com/pdf/2015/PP...</td>\n",
              "      <td>48349</td>\n",
              "      <td>75743</td>\n",
              "      <td>2016-11-04</td>\n",
              "    </tr>\n",
              "    <tr>\n",
              "      <th>4223</th>\n",
              "      <td>Iowa</td>\n",
              "      <td>2016-11-01</td>\n",
              "      <td>2016-11-04</td>\n",
              "      <td>Selzer &amp; Company</td>\n",
              "      <td>A+</td>\n",
              "      <td>800.0</td>\n",
              "      <td>lv</td>\n",
              "      <td>3.842234</td>\n",
              "      <td>39.00</td>\n",
              "      <td>46.00</td>\n",
              "      <td>6.0</td>\n",
              "      <td>NaN</td>\n",
              "      <td>39.36898</td>\n",
              "      <td>45.67372</td>\n",
              "      <td>5.995712</td>\n",
              "      <td>NaN</td>\n",
              "      <td>http://www.desmoinesregister.com/story/news/po...</td>\n",
              "      <td>48470</td>\n",
              "      <td>75957</td>\n",
              "      <td>2016-11-05</td>\n",
              "    </tr>\n",
              "    <tr>\n",
              "      <th>4225</th>\n",
              "      <td>Wisconsin</td>\n",
              "      <td>2016-10-26</td>\n",
              "      <td>2016-10-31</td>\n",
              "      <td>Marquette University</td>\n",
              "      <td>A</td>\n",
              "      <td>1255.0</td>\n",
              "      <td>lv</td>\n",
              "      <td>3.789957</td>\n",
              "      <td>46.00</td>\n",
              "      <td>40.00</td>\n",
              "      <td>4.0</td>\n",
              "      <td>NaN</td>\n",
              "      <td>46.10277</td>\n",
              "      <td>41.02478</td>\n",
              "      <td>2.856997</td>\n",
              "      <td>NaN</td>\n",
              "      <td>https://twitter.com/MULawPoll</td>\n",
              "      <td>48095</td>\n",
              "      <td>75264</td>\n",
              "      <td>2016-11-02</td>\n",
              "    </tr>\n",
              "    <tr>\n",
              "      <th>4226</th>\n",
              "      <td>North Carolina</td>\n",
              "      <td>2016-11-04</td>\n",
              "      <td>2016-11-06</td>\n",
              "      <td>Siena College</td>\n",
              "      <td>A</td>\n",
              "      <td>800.0</td>\n",
              "      <td>lv</td>\n",
              "      <td>3.774139</td>\n",
              "      <td>44.00</td>\n",
              "      <td>44.00</td>\n",
              "      <td>3.0</td>\n",
              "      <td>NaN</td>\n",
              "      <td>44.26048</td>\n",
              "      <td>44.98719</td>\n",
              "      <td>2.236248</td>\n",
              "      <td>NaN</td>\n",
              "      <td>http://www.nytimes.com/2016/11/08/upshot/trump...</td>\n",
              "      <td>48524</td>\n",
              "      <td>76066</td>\n",
              "      <td>2016-11-07</td>\n",
              "    </tr>\n",
              "    <tr>\n",
              "      <th>...</th>\n",
              "      <td>...</td>\n",
              "      <td>...</td>\n",
              "      <td>...</td>\n",
              "      <td>...</td>\n",
              "      <td>...</td>\n",
              "      <td>...</td>\n",
              "      <td>...</td>\n",
              "      <td>...</td>\n",
              "      <td>...</td>\n",
              "      <td>...</td>\n",
              "      <td>...</td>\n",
              "      <td>...</td>\n",
              "      <td>...</td>\n",
              "      <td>...</td>\n",
              "      <td>...</td>\n",
              "      <td>...</td>\n",
              "      <td>...</td>\n",
              "      <td>...</td>\n",
              "      <td>...</td>\n",
              "      <td>...</td>\n",
              "    </tr>\n",
              "    <tr>\n",
              "      <th>8411</th>\n",
              "      <td>North Carolina</td>\n",
              "      <td>2016-08-26</td>\n",
              "      <td>2016-08-27</td>\n",
              "      <td>Public Policy Polling</td>\n",
              "      <td>B+</td>\n",
              "      <td>1177.0</td>\n",
              "      <td>lv</td>\n",
              "      <td>0.000000</td>\n",
              "      <td>45.00</td>\n",
              "      <td>44.00</td>\n",
              "      <td>NaN</td>\n",
              "      <td>NaN</td>\n",
              "      <td>44.40263</td>\n",
              "      <td>44.69241</td>\n",
              "      <td>NaN</td>\n",
              "      <td>NaN</td>\n",
              "      <td>http://nelpaction.org/wp-content/uploads/2016/...</td>\n",
              "      <td>45261</td>\n",
              "      <td>69614</td>\n",
              "      <td>2016-09-01</td>\n",
              "    </tr>\n",
              "    <tr>\n",
              "      <th>8412</th>\n",
              "      <td>North Carolina</td>\n",
              "      <td>2016-03-09</td>\n",
              "      <td>2016-03-10</td>\n",
              "      <td>SurveyUSA</td>\n",
              "      <td>A</td>\n",
              "      <td>1576.0</td>\n",
              "      <td>lv</td>\n",
              "      <td>0.000000</td>\n",
              "      <td>42.00</td>\n",
              "      <td>49.00</td>\n",
              "      <td>NaN</td>\n",
              "      <td>NaN</td>\n",
              "      <td>38.91546</td>\n",
              "      <td>48.83620</td>\n",
              "      <td>NaN</td>\n",
              "      <td>NaN</td>\n",
              "      <td>http://www.highpoint.edu/blog/2016/03/hpu-poll...</td>\n",
              "      <td>36589</td>\n",
              "      <td>65523</td>\n",
              "      <td>2016-05-05</td>\n",
              "    </tr>\n",
              "    <tr>\n",
              "      <th>8413</th>\n",
              "      <td>North Carolina</td>\n",
              "      <td>2016-07-31</td>\n",
              "      <td>2016-08-02</td>\n",
              "      <td>SurveyUSA</td>\n",
              "      <td>A</td>\n",
              "      <td>400.0</td>\n",
              "      <td>lv</td>\n",
              "      <td>0.000000</td>\n",
              "      <td>42.00</td>\n",
              "      <td>46.00</td>\n",
              "      <td>6.0</td>\n",
              "      <td>NaN</td>\n",
              "      <td>42.90049</td>\n",
              "      <td>48.56213</td>\n",
              "      <td>3.223028</td>\n",
              "      <td>NaN</td>\n",
              "      <td>https://www.nccivitas.org/2016/civitas-release...</td>\n",
              "      <td>44759</td>\n",
              "      <td>68485</td>\n",
              "      <td>2016-08-03</td>\n",
              "    </tr>\n",
              "    <tr>\n",
              "      <th>8414</th>\n",
              "      <td>Utah</td>\n",
              "      <td>2016-08-05</td>\n",
              "      <td>2016-08-25</td>\n",
              "      <td>Ipsos</td>\n",
              "      <td>A-</td>\n",
              "      <td>177.0</td>\n",
              "      <td>lv</td>\n",
              "      <td>0.000000</td>\n",
              "      <td>33.67</td>\n",
              "      <td>38.53</td>\n",
              "      <td>NaN</td>\n",
              "      <td>NaN</td>\n",
              "      <td>33.17161</td>\n",
              "      <td>40.04859</td>\n",
              "      <td>NaN</td>\n",
              "      <td>NaN</td>\n",
              "      <td>http://www.reuters.com/statesofthenation</td>\n",
              "      <td>45033</td>\n",
              "      <td>69086</td>\n",
              "      <td>2016-08-26</td>\n",
              "    </tr>\n",
              "    <tr>\n",
              "      <th>8415</th>\n",
              "      <td>Missouri</td>\n",
              "      <td>2016-10-21</td>\n",
              "      <td>2016-11-02</td>\n",
              "      <td>Ipsos</td>\n",
              "      <td>A-</td>\n",
              "      <td>405.0</td>\n",
              "      <td>lv</td>\n",
              "      <td>0.000000</td>\n",
              "      <td>41.09</td>\n",
              "      <td>47.19</td>\n",
              "      <td>NaN</td>\n",
              "      <td>NaN</td>\n",
              "      <td>39.82209</td>\n",
              "      <td>46.82893</td>\n",
              "      <td>NaN</td>\n",
              "      <td>NaN</td>\n",
              "      <td>http://www.reuters.com/statesofthenation/</td>\n",
              "      <td>48236</td>\n",
              "      <td>75537</td>\n",
              "      <td>2016-11-03</td>\n",
              "    </tr>\n",
              "  </tbody>\n",
              "</table>\n",
              "<p>3102 rows × 20 columns</p>\n",
              "</div>\n",
              "      <button class=\"colab-df-convert\" onclick=\"convertToInteractive('df-0eedc6d2-a596-4fcf-8382-7cc034ac6245')\"\n",
              "              title=\"Convert this dataframe to an interactive table.\"\n",
              "              style=\"display:none;\">\n",
              "        \n",
              "  <svg xmlns=\"http://www.w3.org/2000/svg\" height=\"24px\"viewBox=\"0 0 24 24\"\n",
              "       width=\"24px\">\n",
              "    <path d=\"M0 0h24v24H0V0z\" fill=\"none\"/>\n",
              "    <path d=\"M18.56 5.44l.94 2.06.94-2.06 2.06-.94-2.06-.94-.94-2.06-.94 2.06-2.06.94zm-11 1L8.5 8.5l.94-2.06 2.06-.94-2.06-.94L8.5 2.5l-.94 2.06-2.06.94zm10 10l.94 2.06.94-2.06 2.06-.94-2.06-.94-.94-2.06-.94 2.06-2.06.94z\"/><path d=\"M17.41 7.96l-1.37-1.37c-.4-.4-.92-.59-1.43-.59-.52 0-1.04.2-1.43.59L10.3 9.45l-7.72 7.72c-.78.78-.78 2.05 0 2.83L4 21.41c.39.39.9.59 1.41.59.51 0 1.02-.2 1.41-.59l7.78-7.78 2.81-2.81c.8-.78.8-2.07 0-2.86zM5.41 20L4 18.59l7.72-7.72 1.47 1.35L5.41 20z\"/>\n",
              "  </svg>\n",
              "      </button>\n",
              "      \n",
              "  <style>\n",
              "    .colab-df-container {\n",
              "      display:flex;\n",
              "      flex-wrap:wrap;\n",
              "      gap: 12px;\n",
              "    }\n",
              "\n",
              "    .colab-df-convert {\n",
              "      background-color: #E8F0FE;\n",
              "      border: none;\n",
              "      border-radius: 50%;\n",
              "      cursor: pointer;\n",
              "      display: none;\n",
              "      fill: #1967D2;\n",
              "      height: 32px;\n",
              "      padding: 0 0 0 0;\n",
              "      width: 32px;\n",
              "    }\n",
              "\n",
              "    .colab-df-convert:hover {\n",
              "      background-color: #E2EBFA;\n",
              "      box-shadow: 0px 1px 2px rgba(60, 64, 67, 0.3), 0px 1px 3px 1px rgba(60, 64, 67, 0.15);\n",
              "      fill: #174EA6;\n",
              "    }\n",
              "\n",
              "    [theme=dark] .colab-df-convert {\n",
              "      background-color: #3B4455;\n",
              "      fill: #D2E3FC;\n",
              "    }\n",
              "\n",
              "    [theme=dark] .colab-df-convert:hover {\n",
              "      background-color: #434B5C;\n",
              "      box-shadow: 0px 1px 3px 1px rgba(0, 0, 0, 0.15);\n",
              "      filter: drop-shadow(0px 1px 2px rgba(0, 0, 0, 0.3));\n",
              "      fill: #FFFFFF;\n",
              "    }\n",
              "  </style>\n",
              "\n",
              "      <script>\n",
              "        const buttonEl =\n",
              "          document.querySelector('#df-0eedc6d2-a596-4fcf-8382-7cc034ac6245 button.colab-df-convert');\n",
              "        buttonEl.style.display =\n",
              "          google.colab.kernel.accessAllowed ? 'block' : 'none';\n",
              "\n",
              "        async function convertToInteractive(key) {\n",
              "          const element = document.querySelector('#df-0eedc6d2-a596-4fcf-8382-7cc034ac6245');\n",
              "          const dataTable =\n",
              "            await google.colab.kernel.invokeFunction('convertToInteractive',\n",
              "                                                     [key], {});\n",
              "          if (!dataTable) return;\n",
              "\n",
              "          const docLinkHtml = 'Like what you see? Visit the ' +\n",
              "            '<a target=\"_blank\" href=https://colab.research.google.com/notebooks/data_table.ipynb>data table notebook</a>'\n",
              "            + ' to learn more about interactive tables.';\n",
              "          element.innerHTML = '';\n",
              "          dataTable['output_type'] = 'display_data';\n",
              "          await google.colab.output.renderOutput(dataTable, element);\n",
              "          const docLink = document.createElement('div');\n",
              "          docLink.innerHTML = docLinkHtml;\n",
              "          element.appendChild(docLink);\n",
              "        }\n",
              "      </script>\n",
              "    </div>\n",
              "  </div>\n",
              "  "
            ]
          },
          "metadata": {},
          "execution_count": 29
        }
      ]
    }
  ]
}