{
  "nbformat": 4,
  "nbformat_minor": 0,
  "metadata": {
    "colab": {
      "provenance": [],
      "authorship_tag": "ABX9TyNBfUnshdQbyCa2jqXtZ2V7",
      "include_colab_link": true
    },
    "kernelspec": {
      "name": "python3",
      "display_name": "Python 3"
    },
    "language_info": {
      "name": "python"
    }
  },
  "cells": [
    {
      "cell_type": "markdown",
      "metadata": {
        "id": "view-in-github",
        "colab_type": "text"
      },
      "source": [
        "<a href=\"https://colab.research.google.com/github/PRIYUPATEL80/IT-1080/blob/main/Exercise%205-1.ipynb\" target=\"_parent\"><img src=\"https://colab.research.google.com/assets/colab-badge.svg\" alt=\"Open In Colab\"/></a>"
      ]
    },
    {
      "cell_type": "markdown",
      "source": [
        "IT - 1080 - Chapter 5 - Exercise 5-1 - Priyanka Patel "
      ],
      "metadata": {
        "id": "1O8Yr-MxQpgJ"
      }
    },
    {
      "cell_type": "code",
      "execution_count": 10,
      "metadata": {
        "id": "L_h1oiJJQbz_"
      },
      "outputs": [],
      "source": [
        "import pandas as pd"
      ]
    },
    {
      "cell_type": "code",
      "source": [
        "polls_url = (\\\n",
        "'http://projects.fivethirtyeight.com/general-model/president_general_polls_2016.csv')"
      ],
      "metadata": {
        "id": "wkTgK9nOTcOE"
      },
      "execution_count": 11,
      "outputs": []
    },
    {
      "cell_type": "code",
      "source": [
        "from urllib import request\n",
        "request.urlretrieve(polls_url, filename='president_polls_2016.csv')"
      ],
      "metadata": {
        "colab": {
          "base_uri": "https://localhost:8080/"
        },
        "id": "O5J-ihkpYcq7",
        "outputId": "645732a4-3406-4401-8f91-d401c67b1ad5"
      },
      "execution_count": 12,
      "outputs": [
        {
          "output_type": "execute_result",
          "data": {
            "text/plain": [
              "('president_polls_2016.csv', <http.client.HTTPMessage at 0x7f9e7f2e4e20>)"
            ]
          },
          "metadata": {},
          "execution_count": 12
        }
      ]
    },
    {
      "cell_type": "code",
      "source": [
        "polls = pd.read_csv('president_polls_2016.csv')"
      ],
      "metadata": {
        "id": "l71rXB5raiLk"
      },
      "execution_count": 13,
      "outputs": []
    },
    {
      "cell_type": "code",
      "source": [
        "polls.info()"
      ],
      "metadata": {
        "colab": {
          "base_uri": "https://localhost:8080/"
        },
        "id": "eX7B_Y-fbK6y",
        "outputId": "63f70384-0da4-45c3-d58f-f29d222af2fc"
      },
      "execution_count": 14,
      "outputs": [
        {
          "output_type": "stream",
          "name": "stdout",
          "text": [
            "<class 'pandas.core.frame.DataFrame'>\n",
            "RangeIndex: 12624 entries, 0 to 12623\n",
            "Data columns (total 27 columns):\n",
            " #   Column            Non-Null Count  Dtype  \n",
            "---  ------            --------------  -----  \n",
            " 0   cycle             12624 non-null  int64  \n",
            " 1   branch            12624 non-null  object \n",
            " 2   type              12624 non-null  object \n",
            " 3   matchup           12624 non-null  object \n",
            " 4   forecastdate      12624 non-null  object \n",
            " 5   state             12624 non-null  object \n",
            " 6   startdate         12624 non-null  object \n",
            " 7   enddate           12624 non-null  object \n",
            " 8   pollster          12624 non-null  object \n",
            " 9   grade             11337 non-null  object \n",
            " 10  samplesize        12621 non-null  float64\n",
            " 11  population        12624 non-null  object \n",
            " 12  poll_wt           12624 non-null  float64\n",
            " 13  rawpoll_clinton   12624 non-null  float64\n",
            " 14  rawpoll_trump     12624 non-null  float64\n",
            " 15  rawpoll_johnson   8397 non-null   float64\n",
            " 16  rawpoll_mcmullin  90 non-null     float64\n",
            " 17  adjpoll_clinton   12624 non-null  float64\n",
            " 18  adjpoll_trump     12624 non-null  float64\n",
            " 19  adjpoll_johnson   8397 non-null   float64\n",
            " 20  adjpoll_mcmullin  90 non-null     float64\n",
            " 21  multiversions     36 non-null     object \n",
            " 22  url               12621 non-null  object \n",
            " 23  poll_id           12624 non-null  int64  \n",
            " 24  question_id       12624 non-null  int64  \n",
            " 25  createddate       12624 non-null  object \n",
            " 26  timestamp         12624 non-null  object \n",
            "dtypes: float64(10), int64(3), object(14)\n",
            "memory usage: 2.6+ MB\n"
          ]
        }
      ]
    }
  ]
}