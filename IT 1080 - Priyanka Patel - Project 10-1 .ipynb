{
  "nbformat": 4,
  "nbformat_minor": 0,
  "metadata": {
    "colab": {
      "provenance": [],
      "authorship_tag": "ABX9TyM+dXcm+ZitSqWWdqH1aPpJ",
      "include_colab_link": true
    },
    "kernelspec": {
      "name": "python3",
      "display_name": "Python 3"
    },
    "language_info": {
      "name": "python"
    }
  },
  "cells": [
    {
      "cell_type": "markdown",
      "metadata": {
        "id": "view-in-github",
        "colab_type": "text"
      },
      "source": [
        "<a href=\"https://colab.research.google.com/github/PRIYUPATEL80/IT-1080/blob/main/IT%201080%20-%20Priyanka%20Patel%20-%20Project%2010-1%20.ipynb\" target=\"_parent\"><img src=\"https://colab.research.google.com/assets/colab-badge.svg\" alt=\"Open In Colab\"/></a>"
      ]
    },
    {
      "cell_type": "markdown",
      "source": [
        "Project 10-1: Use linear regression with the diamond data - IT 1080 - Priyanka Patel"
      ],
      "metadata": {
        "id": "XyqJdZzGDqRx"
      }
    },
    {
      "cell_type": "code",
      "execution_count": null,
      "metadata": {
        "colab": {
          "base_uri": "https://localhost:8080/",
          "height": 35
        },
        "id": "6xlyKDLlDRRe",
        "outputId": "c42266dc-858e-48f4-b906-bddc149884fa"
      },
      "outputs": [
        {
          "output_type": "execute_result",
          "data": {
            "text/plain": [
              "'from sklearn.model_selection import train_test_split'"
            ],
            "application/vnd.google.colaboratory.intrinsic+json": {
              "type": "string"
            }
          },
          "metadata": {},
          "execution_count": 1
        }
      ],
      "source": [
        "\"import seaborn as sns\\n\",\n",
        "\"import pandas as pd\\n\",\n",
        "\"from sklearn.linear_model import LinearRegression\\n\",\n",
        "\"from sklearn.model_selection import train_test_split\""
      ]
    },
    {
      "cell_type": "markdown",
      "source": [
        "Tasks"
      ],
      "metadata": {
        "id": "fYmqG8l-EBEW"
      }
    },
    {
      "cell_type": "code",
      "source": [
        "\"data = sns.load_dataset('diamonds')\""
      ],
      "metadata": {
        "colab": {
          "base_uri": "https://localhost:8080/",
          "height": 35
        },
        "id": "6J8C2Nm0DxKT",
        "outputId": "2566771a-3bbd-46fc-e2b6-64197050abbd"
      },
      "execution_count": null,
      "outputs": [
        {
          "output_type": "execute_result",
          "data": {
            "text/plain": [
              "\"data = sns.load_dataset('diamonds')\""
            ],
            "application/vnd.google.colaboratory.intrinsic+json": {
              "type": "string"
            }
          },
          "metadata": {},
          "execution_count": 3
        }
      ]
    },
    {
      "cell_type": "code",
      "source": [
        "\"# 2\\n\",\n",
        "\"data.head()\""
      ],
      "metadata": {
        "colab": {
          "base_uri": "https://localhost:8080/",
          "height": 35
        },
        "id": "CZ451KPvD4kB",
        "outputId": "a7864212-c138-47ea-f619-199b689eb6bd"
      },
      "execution_count": null,
      "outputs": [
        {
          "output_type": "execute_result",
          "data": {
            "text/plain": [
              "'data.head()'"
            ],
            "application/vnd.google.colaboratory.intrinsic+json": {
              "type": "string"
            }
          },
          "metadata": {},
          "execution_count": 4
        }
      ]
    },
    {
      "cell_type": "code",
      "source": [
        "\"# 3\\n\",\n",
        "\"sns.heatmap(data=data.corr()[['price']].sort_values(by='price', ascending=False),\\n\",\n",
        "\"            annot=True, cmap='Greens', cbar=False, fmt='.3f')\""
      ],
      "metadata": {
        "colab": {
          "base_uri": "https://localhost:8080/",
          "height": 35
        },
        "id": "Fl5jL_AIEcFm",
        "outputId": "37ec74be-16f1-4bb8-9ef4-3bdb5e91a8c2"
      },
      "execution_count": null,
      "outputs": [
        {
          "output_type": "execute_result",
          "data": {
            "text/plain": [
              "\"            annot=True, cmap='Greens', cbar=False, fmt='.3f')\""
            ],
            "application/vnd.google.colaboratory.intrinsic+json": {
              "type": "string"
            }
          },
          "metadata": {},
          "execution_count": 5
        }
      ]
    },
    {
      "cell_type": "code",
      "source": [
        "\"# 4\\n\",\n",
        "\"x_train, x_test, y_train, y_test = train_test_split(\\n\",\n",
        "\"    data[['carat']], data[['price']],\\n\",\n",
        "\"    test_size=0.30, random_state=20)\""
      ],
      "metadata": {
        "colab": {
          "base_uri": "https://localhost:8080/",
          "height": 35
        },
        "id": "PdGWTYghE162",
        "outputId": "7bd5a3cc-014c-4450-c403-d5213abfcadf"
      },
      "execution_count": null,
      "outputs": [
        {
          "output_type": "execute_result",
          "data": {
            "text/plain": [
              "'    test_size=0.30, random_state=20)'"
            ],
            "application/vnd.google.colaboratory.intrinsic+json": {
              "type": "string"
            }
          },
          "metadata": {},
          "execution_count": 7
        }
      ]
    },
    {
      "cell_type": "code",
      "source": [
        "\"# 5\\n\",\n",
        "\"model = LinearRegression()\\n\",\n",
        "\"model.fit(x_train, y_train)\""
      ],
      "metadata": {
        "colab": {
          "base_uri": "https://localhost:8080/",
          "height": 35
        },
        "id": "QdKNfztGFE28",
        "outputId": "f084cebc-0af6-48fe-8388-5872aec488c0"
      },
      "execution_count": null,
      "outputs": [
        {
          "output_type": "execute_result",
          "data": {
            "text/plain": [
              "'model.fit(x_train, y_train)'"
            ],
            "application/vnd.google.colaboratory.intrinsic+json": {
              "type": "string"
            }
          },
          "metadata": {},
          "execution_count": 8
        }
      ]
    },
    {
      "cell_type": "code",
      "source": [
        "\"# 6\\n\",\n",
        "\"model.score(x_test, y_test)\""
      ],
      "metadata": {
        "colab": {
          "base_uri": "https://localhost:8080/",
          "height": 35
        },
        "id": "FIswpqmfFNl7",
        "outputId": "4b143d28-6121-4371-bf42-0d2314db9df0"
      },
      "execution_count": null,
      "outputs": [
        {
          "output_type": "execute_result",
          "data": {
            "text/plain": [
              "'model.score(x_test, y_test)'"
            ],
            "application/vnd.google.colaboratory.intrinsic+json": {
              "type": "string"
            }
          },
          "metadata": {},
          "execution_count": 9
        }
      ]
    },
    {
      "cell_type": "code",
      "source": [
        "\"# 8\\n\",\n",
        "\"predicted = pd.DataFrame(y_predicted, columns=['predicted_price'])\""
      ],
      "metadata": {
        "colab": {
          "base_uri": "https://localhost:8080/",
          "height": 35
        },
        "id": "WVZSSHHpFXX4",
        "outputId": "db4e50f6-f694-4c1a-eb34-fa42ff5e44bb"
      },
      "execution_count": null,
      "outputs": [
        {
          "output_type": "execute_result",
          "data": {
            "text/plain": [
              "\"predicted = pd.DataFrame(y_predicted, columns=['predicted_price'])\""
            ],
            "application/vnd.google.colaboratory.intrinsic+json": {
              "type": "string"
            }
          },
          "metadata": {},
          "execution_count": 10
        }
      ]
    },
    {
      "cell_type": "code",
      "source": [
        "\"# 9\\n\",\n",
        "\"combined = x_test.reset_index(drop=True).join([y_test.reset_index(drop=True), predicted])\\n\",\n",
        "\"combined.head()\""
      ],
      "metadata": {
        "colab": {
          "base_uri": "https://localhost:8080/",
          "height": 35
        },
        "id": "2UJB7g4mFgmF",
        "outputId": "824ba0a2-89ec-49a9-fe3e-a48237d4326e"
      },
      "execution_count": null,
      "outputs": [
        {
          "output_type": "execute_result",
          "data": {
            "text/plain": [
              "'combined.head()'"
            ],
            "application/vnd.google.colaboratory.intrinsic+json": {
              "type": "string"
            }
          },
          "metadata": {},
          "execution_count": 11
        }
      ]
    },
    {
      "cell_type": "code",
      "source": [
        "\"# 10\\n\",\n",
        "\"melted = pd.melt(combined, id_vars=['carat'], value_vars=['price','predicted_price'], \\n\",\n",
        "\"                    var_name='price_type', value_name='price_value')\""
      ],
      "metadata": {
        "colab": {
          "base_uri": "https://localhost:8080/",
          "height": 35
        },
        "id": "9OYUpFaXFpAp",
        "outputId": "b3200dcf-48ab-492a-9d1b-0e305a377d74"
      },
      "execution_count": null,
      "outputs": [
        {
          "output_type": "execute_result",
          "data": {
            "text/plain": [
              "\"                    var_name='price_type', value_name='price_value')\""
            ],
            "application/vnd.google.colaboratory.intrinsic+json": {
              "type": "string"
            }
          },
          "metadata": {},
          "execution_count": 12
        }
      ]
    },
    {
      "cell_type": "code",
      "source": [
        "\"# 11\\n\",\n",
        "\"sns.relplot(data=melted, kind='line', x='carat', y='price_value', hue='price_type', ci=None)\""
      ],
      "metadata": {
        "id": "8vbqpFFAFyrr",
        "outputId": "79b30c19-4b71-40b2-8b9a-6a6b1495988d",
        "colab": {
          "base_uri": "https://localhost:8080/",
          "height": 35
        }
      },
      "execution_count": null,
      "outputs": [
        {
          "output_type": "execute_result",
          "data": {
            "text/plain": [
              "\"sns.relplot(data=melted, kind='line', x='carat', y='price_value', hue='price_type', ci=None)\""
            ],
            "application/vnd.google.colaboratory.intrinsic+json": {
              "type": "string"
            }
          },
          "metadata": {},
          "execution_count": 13
        }
      ]
    }
  ]
}